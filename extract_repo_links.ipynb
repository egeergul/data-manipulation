{
 "cells": [
  {
   "cell_type": "code",
   "execution_count": 2,
   "id": "aa459e37",
   "metadata": {},
   "outputs": [],
   "source": [
    "import csv"
   ]
  },
  {
   "cell_type": "markdown",
   "id": "af5e5546",
   "metadata": {},
   "source": []
  },
  {
   "cell_type": "code",
   "execution_count": 3,
   "id": "3219177f",
   "metadata": {},
   "outputs": [],
   "source": [
    "# open csv file\n",
    "file = open('files/data.csv')\n",
    "\n",
    "# create the reader for the file\n",
    "reader = csv.reader(file)\n",
    "\n",
    "# get the header\n",
    "header = []\n",
    "header = next(reader)"
   ]
  },
  {
   "cell_type": "code",
   "execution_count": 4,
   "id": "8e1dcf95",
   "metadata": {},
   "outputs": [],
   "source": [
    "# extract the rows/ records\n",
    "rows = []\n",
    "for row in reader:\n",
    "    rows.append(row)"
   ]
  },
  {
   "cell_type": "code",
   "execution_count": 5,
   "id": "8f2bfd16",
   "metadata": {},
   "outputs": [],
   "source": [
    "# extract the repository links from the data\n",
    "repo_links = []\n",
    "for row in rows:\n",
    "    repo_links.append(row[9])\n"
   ]
  },
  {
   "cell_type": "code",
   "execution_count": 6,
   "id": "4cce7c48",
   "metadata": {},
   "outputs": [],
   "source": [
    "# create the file that will contain extracted data \n",
    "with open('files/repo_link.csv', 'w', encoding='UTF8') as f:\n",
    "    writer = csv.writer(f)\n",
    "    \n",
    "    for repo in repo_links:\n",
    "        writer.writerow([repo])"
   ]
  },
  {
   "cell_type": "code",
   "execution_count": null,
   "id": "294a141a",
   "metadata": {},
   "outputs": [],
   "source": []
  }
 ],
 "metadata": {
  "kernelspec": {
   "display_name": "Python 3 (ipykernel)",
   "language": "python",
   "name": "python3"
  },
  "language_info": {
   "codemirror_mode": {
    "name": "ipython",
    "version": 3
   },
   "file_extension": ".py",
   "mimetype": "text/x-python",
   "name": "python",
   "nbconvert_exporter": "python",
   "pygments_lexer": "ipython3",
   "version": "3.10.7"
  }
 },
 "nbformat": 4,
 "nbformat_minor": 5
}
